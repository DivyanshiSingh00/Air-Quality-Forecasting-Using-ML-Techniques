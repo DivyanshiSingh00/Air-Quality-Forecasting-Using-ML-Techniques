# Load the combined dataset
df = pd.read_csv('city_day.csv')
df["Date"] = pd.to_datetime(df["Date"])
# Filter required features and drop rows with missing values
#features = ['PM2.5', 'PM10', 'NO2', 'SO2', 'CO', 'O3']
features = ['PM2.5', 'PM10', 'NO2', 'SO2', 'CO', 'O3', 'Benzene','NO','NOx','NH3','Toluene','Xylene']
df = df[features + ['AQI']].dropna()

# Split into features and target
X = df[features]
y = df['AQI']
# Train-test split
X_train, X_test, y_train, y_test = train_test_split(X, y, test_size=0.2, random_state=42)
sc_x = StandardScaler()
sc_y = StandardScaler()
x_train = sc_x.fit_transform(X_train)
x_test = sc_x.transform(X_test)
y_train = sc_y.fit_transform(np.array(y_train).reshape(-1,1))
y_test = sc_y.transform(np.array(y_test).reshape(-1,1))
